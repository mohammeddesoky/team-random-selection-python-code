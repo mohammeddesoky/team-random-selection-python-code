{
 "cells": [
  {
   "cell_type": "markdown",
   "metadata": {},
   "source": [
    "# Team Random Selection Code :)\n"
   ]
  },
  {
   "cell_type": "code",
   "execution_count": 1,
   "metadata": {},
   "outputs": [],
   "source": [
    "import random\n",
    "\n",
    "# Define the four test lists\n",
    "level1_list = [1, 2, 3, 4]\n",
    "level2_list = ['a', 'b', 'c','d']\n",
    "level3_list = [99, 88, 77,66]\n",
    "level4_list = [\"1$\",\"2&\",\"3%\",\"4©\"]"
   ]
  },
  {
   "cell_type": "markdown",
   "metadata": {},
   "source": [
    "Think about a code that help us to have random new mixed lists, each list should have one element from each level lists.\n",
    "\n",
    "Output may be like that following:\n",
    "```python\n",
    "team1 = [1, 'c', 88, '2&']\n",
    "team2 = [4, 'a', 99, '3%']\n",
    "team3 = [2, 'b', 77, '4©']\n",
    "team4 = [3, 'd', 66, '1$']\n",
    "```\n",
    "\n"
   ]
  },
  {
   "cell_type": "markdown",
   "metadata": {},
   "source": [
    "# **Solution**"
   ]
  },
  {
   "cell_type": "code",
   "execution_count": 2,
   "metadata": {},
   "outputs": [
    {
     "name": "stdout",
     "output_type": "stream",
     "text": [
      "team1 = [2, 'b', 99, '3%']\n",
      "team2 = [1, 'd', 66, '4©']\n",
      "team3 = [4, 'a', 77, '2&']\n",
      "team4 = [3, 'c', 88, '1$']\n"
     ]
    }
   ],
   "source": [
    "# Take copy form each list\n",
    "level1_list_copy = level1_list.copy()\n",
    "level2_list_copy = level2_list.copy()\n",
    "level3_list_copy = level3_list.copy()\n",
    "level4_list_copy = level4_list.copy()\n",
    "\n",
    "for i in range (len(level1_list_copy)):\n",
    "    \n",
    "    # Choose the element randomly\n",
    "    random_element1 = random.choice(level1_list_copy)\n",
    "    random_element2 = random.choice(level2_list_copy)\n",
    "    random_element3 = random.choice(level3_list_copy)\n",
    "    random_element4 = random.choice(level4_list_copy)\n",
    "\n",
    "    # Push elements in list\n",
    "    l = [random_element1, random_element2, random_element3, random_element4]\n",
    "    print(f\"team{i+1} = {l}\")\n",
    "\n",
    "    # Delete the element who choose it randomly in level1_list\n",
    "    index1 = level1_list_copy.index(random_element1)\n",
    "    del(level1_list_copy[index1])\n",
    "\n",
    "    # Delete the element who choose it randomly in level2_list\n",
    "    index2 = level2_list_copy.index(random_element2)\n",
    "    del(level2_list_copy[index2])\n",
    "\n",
    "    # Delete the element who choose it randomly in level3_list\n",
    "    index3 = level3_list_copy.index(random_element3)\n",
    "    del(level3_list_copy[index3])\n",
    "\n",
    "    # Delete the element who choose it randomly in level4_list\n",
    "    index4 = level4_list_copy.index(random_element4)\n",
    "    del(level4_list_copy[index4])"
   ]
  },
  {
   "cell_type": "code",
   "execution_count": null,
   "metadata": {},
   "outputs": [],
   "source": []
  }
 ],
 "metadata": {
  "kernelspec": {
   "display_name": "pubmed",
   "language": "python",
   "name": "python3"
  },
  "language_info": {
   "codemirror_mode": {
    "name": "ipython",
    "version": 3
   },
   "file_extension": ".py",
   "mimetype": "text/x-python",
   "name": "python",
   "nbconvert_exporter": "python",
   "pygments_lexer": "ipython3",
   "version": "3.10.11"
  }
 },
 "nbformat": 4,
 "nbformat_minor": 2
}
